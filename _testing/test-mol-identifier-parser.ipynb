{
 "cells": [
  {
   "cell_type": "code",
   "execution_count": null,
   "id": "342451bf-2553-43df-a8a4-f39ce7a02baa",
   "metadata": {
    "tags": []
   },
   "outputs": [],
   "source": [
    "# This script fetches 100 random molecules from PubChem and runs their\n",
    "# InChI, SMILES and InChIKey against our molecule_identifier_s pyparsing\n",
    "# definition, which parses both indivisual identifiers as well as a list of identifiers\n",
    "\n",
    "from openad.smols.smol_functions import find_smol\n",
    "from openad_tools.grammar_def import molecule_identifier_s\n",
    "from openad_tools.output import output_success\n",
    "cmd_pointer = %openadd cmd_pointer\n",
    "\n",
    "# Fetch 100 random molecules from PubChem and\n",
    "# parse them as single molecule identifier\n",
    "identifier_list = []\n",
    "for i in range(100):\n",
    "    r_id = random.randint(1,9999999)\n",
    "    smol = find_smol(cmd_pointer, f'{r_id}')\n",
    "    if not smol:\n",
    "        print('---- failed to find smol for id:', r_id)\n",
    "        continue\n",
    "        \n",
    "    # Test inchi\n",
    "    inchi = smol.get('identifiers', {}).get('inchi')\n",
    "    if inchi:\n",
    "        identifier_list.append(inchi)\n",
    "        result = molecule_identifier_s.parse_string(inchi)\n",
    "        if result:\n",
    "            print(result.as_dict())\n",
    "        else:\n",
    "            print('---- failed to parse inchi for:', r_id, inchi)\n",
    "    else:\n",
    "        print('---- inchi not defined for:', r_id)\n",
    "    \n",
    "    # Test SMILES\n",
    "    smiles = smol.get('identifiers', {}).get('canonical_smiles')\n",
    "    if smiles:\n",
    "        identifier_list.append(smiles)\n",
    "        result = molecule_identifier_s.parse_string(smiles)\n",
    "        if result:\n",
    "            print(result.as_dict())\n",
    "        else:\n",
    "            print('---- failed to parse smiles for:', r_id, smiles)\n",
    "    else:\n",
    "        print('---- smiles not defined for:', r_id)\n",
    "    \n",
    "    # Test inchikey\n",
    "    inchikey = smol.get('identifiers', {}).get('inchikey')\n",
    "    if inchikey:\n",
    "        identifier_list.append(inchikey)\n",
    "        result = molecule_identifier_s.parse_string(inchikey)\n",
    "        if result:\n",
    "            print(result.as_dict())\n",
    "        else:\n",
    "            print('---- failed to parse inchikey for:', r_id, inchikey)\n",
    "    else:\n",
    "        print('---- inchikey not defined for:', r_id)\n",
    "    \n",
    "    \n",
    "# Now parse the list of identifiers as one, also using molecule_identifier_s\n",
    "result = molecule_identifier_s.parse_string(str(identifier_list))\n",
    "if result:\n",
    "    print('\\n\\nParsed list\\n- - - -')\n",
    "    identifiers = result.as_dict().get('identifiers')\n",
    "    for id in identifiers:\n",
    "        print('*', id)\n"
   ]
  }
 ],
 "metadata": {
  "kernelspec": {
   "display_name": "ad-venv",
   "language": "python",
   "name": "ad-venv"
  },
  "language_info": {
   "codemirror_mode": {
    "name": "ipython",
    "version": 3
   },
   "file_extension": ".py",
   "mimetype": "text/x-python",
   "name": "python",
   "nbconvert_exporter": "python",
   "pygments_lexer": "ipython3",
   "version": "3.11.11"
  }
 },
 "nbformat": 4,
 "nbformat_minor": 5
}
